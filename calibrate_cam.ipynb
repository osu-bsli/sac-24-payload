{
 "cells": [
  {
   "cell_type": "code",
   "execution_count": 1,
   "metadata": {},
   "outputs": [],
   "source": [
    "import os\n",
    "import numpy as np\n",
    "import cv2\n",
    "# !pip install opencv-contrib-python"
   ]
  },
  {
   "cell_type": "code",
   "execution_count": 2,
   "metadata": {},
   "outputs": [],
   "source": [
    "ARUCO_DICT = cv2.aruco.DICT_6X6_250\n",
    "SQUARES_VERTICALLY = 7\n",
    "SQUARES_HORIZONTALLY = 5\n",
    "SQUARE_LENGTH = 0.03\n",
    "MARKER_LENGTH = 0.015\n",
    "LENGTH_PX = 640   # total length of the page in pixels\n",
    "MARGIN_PX = 20    # size of the margin in pixels\n",
    "SAVE_NAME = 'output/calibration_ChArUco_Marker.png'\n",
    "\n",
    "PATH_TO_IMAGES = './calib/camera1'\n"
   ]
  },
  {
   "cell_type": "code",
   "execution_count": 3,
   "metadata": {},
   "outputs": [],
   "source": [
    "def create_and_save_new_board():\n",
    "    dictionary = cv2.aruco.getPredefinedDictionary(ARUCO_DICT)\n",
    "    board = cv2.aruco.CharucoBoard((SQUARES_VERTICALLY, SQUARES_HORIZONTALLY), SQUARE_LENGTH, MARKER_LENGTH, dictionary)\n",
    "    size_ratio = SQUARES_HORIZONTALLY / SQUARES_VERTICALLY\n",
    "    img = cv2.aruco.CharucoBoard.generateImage(board, (LENGTH_PX, int(LENGTH_PX*size_ratio)), marginSize=MARGIN_PX)\n",
    "    cv2.imshow(\"img\", img)\n",
    "    cv2.waitKey(2000)\n",
    "    cv2.imwrite(SAVE_NAME, img)\n",
    "\n",
    "# create_and_save_new_board()"
   ]
  },
  {
   "cell_type": "code",
   "execution_count": 4,
   "metadata": {},
   "outputs": [],
   "source": [
    "def calibrate_and_save_parameters():\n",
    "    # Define the aruco dictionary and charuco board\n",
    "    dictionary = cv2.aruco.getPredefinedDictionary(ARUCO_DICT)\n",
    "    board = cv2.aruco.CharucoBoard((SQUARES_VERTICALLY, SQUARES_HORIZONTALLY), SQUARE_LENGTH, MARKER_LENGTH, dictionary)\n",
    "    params = cv2.aruco.DetectorParameters()\n",
    "\n",
    "    # Load PNG images from folder\n",
    "    image_files = [os.path.join(PATH_TO_IMAGES, f) for f in os.listdir(PATH_TO_IMAGES) if f.endswith(\".png\")]\n",
    "    image_files.sort()  # Ensure files are in order\n",
    "\n",
    "    all_charuco_corners = []\n",
    "    all_charuco_ids = []\n",
    "\n",
    "    for image_file in image_files:\n",
    "        image = cv2.imread(image_file)\n",
    "        image_copy = image.copy()\n",
    "        marker_corners, marker_ids, _ = cv2.aruco.detectMarkers(image, dictionary, parameters=params)\n",
    "        \n",
    "        # If at least one marker is detected\n",
    "        if len(marker_ids) > 0:\n",
    "            cv2.aruco.drawDetectedMarkers(image_copy, marker_corners, marker_ids)\n",
    "            charuco_retval, charuco_corners, charuco_ids = cv2.aruco.interpolateCornersCharuco(marker_corners, marker_ids, image, board)\n",
    "            if charuco_retval:\n",
    "                all_charuco_corners.append(charuco_corners)\n",
    "                all_charuco_ids.append(charuco_ids)\n",
    "\n",
    "    # Calibrate camera\n",
    "    retval, camera_matrix, dist_coeffs, rvecs, tvecs = cv2.aruco.calibrateCameraCharuco(all_charuco_corners, all_charuco_ids, board, image.shape[:2], None, None)\n",
    "\n",
    "    # Save calibration data\n",
    "    np.save('cam_properties/camera_matrix.npy', camera_matrix)\n",
    "    np.save('cam_properties/dist_coeffs.npy', dist_coeffs)\n",
    "\n",
    "    # Iterate through displaying all the images\n",
    "    for image_file in image_files:\n",
    "        image = cv2.imread(image_file)\n",
    "        undistorted_image = cv2.undistort(image, camera_matrix, dist_coeffs)\n",
    "        cv2.imshow('Undistorted Image', undistorted_image)\n",
    "        cv2.waitKey(0)\n",
    "\n",
    "    cv2.destroyAllWindows()\n",
    "    cv2.waitKey(0)"
   ]
  },
  {
   "cell_type": "markdown",
   "metadata": {},
   "source": [
    "call the calibrate function"
   ]
  },
  {
   "cell_type": "code",
   "execution_count": 5,
   "metadata": {},
   "outputs": [],
   "source": [
    "\n",
    "# calibrate_and_save_parameters()"
   ]
  },
  {
   "cell_type": "markdown",
   "metadata": {},
   "source": [
    "Test camera calibration by pose estimating for a charuco board"
   ]
  },
  {
   "cell_type": "code",
   "execution_count": 6,
   "metadata": {},
   "outputs": [],
   "source": [
    "def detect_pose(image, camera_matrix, dist_coeffs):\n",
    "    # Undistort the image\n",
    "    undistorted_image = cv2.undistort(image, camera_matrix, dist_coeffs)\n",
    "\n",
    "    # Define the aruco dictionary and charuco board\n",
    "    dictionary = cv2.aruco.getPredefinedDictionary(ARUCO_DICT)\n",
    "    board = cv2.aruco.CharucoBoard((SQUARES_VERTICALLY, SQUARES_HORIZONTALLY), SQUARE_LENGTH, MARKER_LENGTH, dictionary)\n",
    "    params = cv2.aruco.DetectorParameters()\n",
    "\n",
    "    # Detect markers in the undistorted image\n",
    "    marker_corners, marker_ids, _ = cv2.aruco.detectMarkers(undistorted_image, dictionary, parameters=params)\n",
    "\n",
    "    # If at least one marker is detected\n",
    "    if len(marker_ids) > 0:\n",
    "        # Interpolate CharUco corners\n",
    "        charuco_retval, charuco_corners, charuco_ids = cv2.aruco.interpolateCornersCharuco(marker_corners, marker_ids, undistorted_image, board)\n",
    "\n",
    "        # If enough corners are found, estimate the pose\n",
    "        if charuco_retval:\n",
    "            retval, rvec, tvec = cv2.aruco.estimatePoseCharucoBoard(charuco_corners, charuco_ids, board, camera_matrix, dist_coeffs, None, None)\n",
    "\n",
    "            # If pose estimation is successful, draw the axis\n",
    "            if retval:\n",
    "                cv2.drawFrameAxes(undistorted_image, camera_matrix, dist_coeffs, rvec, tvec, length=0.1, thickness=15)\n",
    "    return undistorted_image\n",
    "\n"
   ]
  },
  {
   "cell_type": "code",
   "execution_count": 7,
   "metadata": {},
   "outputs": [
    {
     "name": "stderr",
     "output_type": "stream",
     "text": [
      "2024-01-28 13:31:17.881 Python[6889:558246] WARNING: Secure coding is automatically enabled for restorable state! However, not on all supported macOS versions of this application. Opt-in to secure coding explicitly by implementing NSApplicationDelegate.applicationSupportsSecureRestorableState:.\n"
     ]
    },
    {
     "ename": "",
     "evalue": "",
     "output_type": "error",
     "traceback": [
      "\u001b[1;31mThe Kernel crashed while executing code in the the current cell or a previous cell. Please review the code in the cell(s) to identify a possible cause of the failure. Click <a href='https://aka.ms/vscodeJupyterKernelCrash'>here</a> for more info. View Jupyter <a href='command:jupyter.viewOutput'>log</a> for further details."
     ]
    }
   ],
   "source": [
    "# test calibration success by locating points on a charuco board\n",
    "PATH_TO_IMAGES = 'calib/camera1'\n",
    "\n",
    "def main():\n",
    "    # Load calibration data\n",
    "    camera_matrix = np.load('cam_properties/camera_matrix.npy')\n",
    "    dist_coeffs = np.load('cam_properties/dist_coeffs.npy')\n",
    "\n",
    "    # Iterate through PNG images in the folder\n",
    "    image_files = [os.path.join(PATH_TO_IMAGES, f) for f in os.listdir(PATH_TO_IMAGES) if f.endswith(\".png\")]\n",
    "    image_files.sort()  # Ensure files are in order\n",
    "\n",
    "    for image_file in image_files:\n",
    "        # Load an image\n",
    "        image = cv2.imread(image_file)\n",
    "\n",
    "        # Detect pose and draw axis\n",
    "        pose_image = detect_pose(image, camera_matrix, dist_coeffs)\n",
    "\n",
    "        # Show the image\n",
    "        cv2.imshow('Pose Image', pose_image)\n",
    "        cv2.waitKey(0)\n",
    "\n",
    "main()\n"
   ]
  }
 ],
 "metadata": {
  "kernelspec": {
   "display_name": "Python 3",
   "language": "python",
   "name": "python3"
  },
  "language_info": {
   "codemirror_mode": {
    "name": "ipython",
    "version": 3
   },
   "file_extension": ".py",
   "mimetype": "text/x-python",
   "name": "python",
   "nbconvert_exporter": "python",
   "pygments_lexer": "ipython3",
   "version": "3.9.6"
  }
 },
 "nbformat": 4,
 "nbformat_minor": 2
}
