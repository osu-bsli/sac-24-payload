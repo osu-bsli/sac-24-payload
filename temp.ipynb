{
 "cells": [
  {
   "cell_type": "code",
   "execution_count": 42,
   "metadata": {},
   "outputs": [],
   "source": [
    "# x = red\n",
    "# y = green\n",
    "# z = blue"
   ]
  },
  {
   "cell_type": "code",
   "execution_count": 43,
   "metadata": {},
   "outputs": [],
   "source": [
    "# from aruco_classes import *\n",
    "from cv2 import Rodrigues\n",
    "from utils import rad_to_deg, get_transformation_required\n",
    "import numpy as np\n",
    "from scipy.spatial.transform import Rotation"
   ]
  },
  {
   "cell_type": "code",
   "execution_count": 45,
   "metadata": {},
   "outputs": [],
   "source": [
    "# test rotation transform function:\n",
    "# Marker 29\n",
    "rvec_a = np.array([2.59150613, -1.58091633, 0.09634847])\n",
    "tvec_a = np.array([0.02873549, 0.02651171, 0.28623691])\n",
    "\n",
    "# Marker 21\n",
    "rvec_b = np.array([2.7668811, 0.36025719, -0.92779701])\n",
    "tvec_b = np.array([0.09419979, 0.02570032, 0.28652129])\n",
    "\n",
    "# Marker 0\n",
    "rvec_c = np.array([-2.91895901, 0.16024909, -0.23160473])\n",
    "tvec_c = np.array([0.11093469, 0.07754449, 0.28527676])"
   ]
  },
  {
   "cell_type": "code",
   "execution_count": 53,
   "metadata": {},
   "outputs": [
    {
     "name": "stdout",
     "output_type": "stream",
     "text": [
      "result with path 1 = [158.53060945  20.64121628 -53.15885309]\n",
      "result with path 2 = [158.53060945  20.64121628 -53.15885309]\n",
      "result with path 2 = [158.53060945  20.64121628 -53.15885309]\n"
     ]
    }
   ],
   "source": [
    "# see if transformation from r29->r0->r21 = r29->r45->r21 = r29->r21\n",
    "# Marker 29\n",
    "r_29 = np.array([148.48236394240274, -90.57983365964078, 5.520360848360677])\n",
    "# Marker 0\n",
    "r_0 = np.array([-167.24403188037195, 9.181596333829454, -13.269973447755811])\n",
    "# Marker 21\n",
    "r_21 = np.array([158.5306094509204, 20.64121628236041, -53.15885308642828])\n",
    "# Marker 45\n",
    "r_45 = np.array([89.3858309924796, -148.606079478865, -35.052193893111294])\n",
    "\n",
    "tr1=get_transformation_required(r_29, r_0)\n",
    "tr2=get_transformation_required(r_0, r_21)\n",
    "print(f'result with path 1 = {r_29*tr1*tr2}')\n",
    "\n",
    "tr1=get_transformation_required(r_29, r_45)\n",
    "tr2=get_transformation_required(r_45, r_21)\n",
    "print(f'result with path 2 = {r_29*tr1*tr2}')\n",
    "\n",
    "tr1=get_transformation_required(r_29, r_21)\n",
    "print(f'result with path 2 = {r_29*tr1}')"
   ]
  },
  {
   "cell_type": "code",
   "execution_count": 46,
   "metadata": {},
   "outputs": [
    {
     "name": "stdout",
     "output_type": "stream",
     "text": [
      "rotation required to go from one to the other:\n",
      "\n",
      "transform from a to c is  [ 1.06767299 -0.22787872 -9.62959775]\n",
      "\tin degrees: [61.17315626203619, -13.056488907444333, -551.7353095265242]\n",
      "\n",
      "transform from a to c is  [-1.05496366  0.44481858  0.24962867]\n",
      "\tin degrees: [-60.444965215413504, 25.48622701412867, 14.302669011906994]\n",
      "\n",
      "CALCULATED transformation from a to c is  [-1.12635621 -0.10136469 -2.40382364]\n",
      "\tin degrees: [-64.53545677882886, -5.807768794324545, -137.72894934675105]\n",
      "\n",
      "transform from a to c is  [-1.12635621 -0.10136469 -2.40382364]\n",
      "\tin degrees: [-64.53545677882886, -5.807768794324546, -137.72894934675105]\n",
      "\n"
     ]
    }
   ],
   "source": [
    "# does a->b->c == a->c?\n",
    "print(f'rotation required to go from one to the other:\\n')\n",
    "\n",
    "tr_a_to_b = get_transformation_required(rvec_a, rvec_b)\n",
    "print(f'transform from a to c is ',tr_a_to_b)\n",
    "print(f'\\tin degrees: {rad_to_deg(tr_a_to_b, is_rvec=False)}\\n')\n",
    "\n",
    "tr_b_to_c = get_transformation_required(rvec_b, rvec_c)\n",
    "print(f'transform from a to c is ',tr_b_to_c)\n",
    "print(f'\\tin degrees: {rad_to_deg(tr_b_to_c, is_rvec=False)}\\n')\n",
    "calc_a_to_c = tr_a_to_b * tr_b_to_c\n",
    "print(f'CALCULATED transformation from a to c is ',calc_a_to_c)\n",
    "print(f'\\tin degrees: {rad_to_deg(calc_a_to_c, is_rvec=False)}\\n')\n",
    "\n",
    "tr_a_to_c = get_transformation_required(rvec_a, rvec_c)\n",
    "print(f'transform from a to c is ',tr_a_to_c)\n",
    "print(f'\\tin degrees: {rad_to_deg(tr_a_to_c, is_rvec=False)}\\n')"
   ]
  },
  {
   "cell_type": "code",
   "execution_count": 47,
   "metadata": {},
   "outputs": [
    {
     "name": "stdout",
     "output_type": "stream",
     "text": [
      "[176.77126373  -6.21368942 -62.59423187]\n",
      "[171.89537258  37.75609272  12.06128605]\n"
     ]
    }
   ],
   "source": [
    "# rotVec, _ =  Rodrigues(from_r_vec)\n",
    "from_rvec_scipy = Rotation.from_rotvec(rvec_a)\n",
    "print(from_rvec_scipy.as_euler('xyz', degrees=True))\n",
    "\n",
    "to_rvec_scipy = Rotation.from_rotvec(rvec_b)\n",
    "print(to_rvec_scipy.as_euler('xyz', degrees=True))"
   ]
  },
  {
   "cell_type": "code",
   "execution_count": 48,
   "metadata": {},
   "outputs": [
    {
     "name": "stdout",
     "output_type": "stream",
     "text": [
      "original:\n",
      "[176.77126372744902, -6.213689424993568, -62.59423186982832]\n",
      "inv:\n",
      "[-173.00046120454667, 0.014895616467796143, -62.76861608273166]\n",
      "product:\n",
      "[-7.951386703658792e-16, 0.0, 6.3611093629270335e-15]\n"
     ]
    }
   ],
   "source": [
    "# cross product of matrix with its inverse = 0\n",
    "from_to_zero = from_rvec_scipy.inv()\n",
    "print(f'original:')\n",
    "print(from_rvec_scipy.as_euler('xyz', degrees=True).tolist())\n",
    "print(f'inv:')\n",
    "print(from_to_zero.as_euler('xyz', degrees=True).tolist())\n",
    "print(f'product:')\n",
    "prod = from_rvec_scipy * from_to_zero\n",
    "print(prod.as_euler('xyz', degrees=True).tolist()) # approx zero"
   ]
  },
  {
   "cell_type": "code",
   "execution_count": 49,
   "metadata": {},
   "outputs": [
    {
     "name": "stdout",
     "output_type": "stream",
     "text": [
      "rotation required to go from one to the other:\n",
      "[0.35927507074722037, -35.973043292541256, -79.91505584792164]\n"
     ]
    }
   ],
   "source": [
    "# transform from one to another:\n",
    "from_cross_to = from_rvec_scipy.inv() * to_rvec_scipy\n",
    "print(f'rotation required to go from one to the other:')\n",
    "print(from_cross_to.as_euler('xyz', degrees=True).tolist())"
   ]
  }
 ],
 "metadata": {
  "kernelspec": {
   "display_name": "Python 3",
   "language": "python",
   "name": "python3"
  },
  "language_info": {
   "codemirror_mode": {
    "name": "ipython",
    "version": 3
   },
   "file_extension": ".py",
   "mimetype": "text/x-python",
   "name": "python",
   "nbconvert_exporter": "python",
   "pygments_lexer": "ipython3",
   "version": "3.9.6"
  }
 },
 "nbformat": 4,
 "nbformat_minor": 2
}
